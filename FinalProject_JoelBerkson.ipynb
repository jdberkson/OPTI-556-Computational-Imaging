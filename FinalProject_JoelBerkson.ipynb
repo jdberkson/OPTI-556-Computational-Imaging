{
  "nbformat": 4,
  "nbformat_minor": 0,
  "metadata": {
    "colab": {
      "name": "FinalProject_JoelBerkson.ipynb",
      "provenance": [],
      "authorship_tag": "ABX9TyO2zmGD5L1BBr+Q1OPakHan",
      "include_colab_link": true
    },
    "kernelspec": {
      "name": "python3",
      "display_name": "Python 3"
    },
    "language_info": {
      "name": "python"
    }
  },
  "cells": [
    {
      "cell_type": "markdown",
      "metadata": {
        "id": "view-in-github",
        "colab_type": "text"
      },
      "source": [
        "<a href=\"https://colab.research.google.com/github/jdberkson/OPTI-556-Computational-Imaging/blob/main/FinalProject_JoelBerkson.ipynb\" target=\"_parent\"><img src=\"https://colab.research.google.com/assets/colab-badge.svg\" alt=\"Open In Colab\"/></a>"
      ]
    },
    {
      "cell_type": "markdown",
      "metadata": {
        "id": "pMlbRTp-K0fd"
      },
      "source": [
        "#Gamma Distortion Correction"
      ]
    },
    {
      "cell_type": "markdown",
      "metadata": {
        "id": "4pKD5dSfK_Z6"
      },
      "source": [
        "In most display systems, whether it be LED screens, projectors, or even cameras, the brightness response is nonlinear compared to the true brightness desired/observed. This is typically represented as a gamma factor $I^\\gamma$, where linear response is $\\gamma$ = 1. Usually it is beneficial in display systems to have a gamma factor greater than 1, which will look more natural to our eye, but in some systems this is undesirable. If you desire to recover the inital image.\n",
        "\n",
        "This is the case in any metrology system that utilizes a phase shifting algorithm (PSA). This includes Phase Shifting Interferometers (PSI), Phase Measuring Deflectometry (PMD), Fringe Projection Profilometry (FPP), and others involving phase shifted patterns.\n",
        "\n",
        "For these systems the ideal pattern takes the form of:\n",
        "\n",
        "$$\n",
        "I_n(x) = A+Bsin(\\omega_ox+n*2\\pi/N+\\phi(x)) \\tag{Eq. 1}\n",
        "$$\n",
        "\n",
        "Where N is the number of phase shifts, and n denotes the nth pattern, $\\omega_o$ is the pattern frequency. The goal of a PSA is to recover $\\phi(x)$, which effectively encodes the surface under test with a phase, which is then converted to depth/slope information, depending on the metrology method being used. One of the most common ways to recover this phase is through what's known as a the PSA LSQ (Least Squares):\n",
        "\n",
        "$$\n",
        "\\phi(x,y) = arctan(\\frac{\\sum_{n=0}^{N} I_n(x,y)sin(2\\pi n/N)}{ \\sum_{n=0}^{N} I_n(x,y)cos(2\\pi n/N) }) \\tag{Eq. 2}\n",
        "$$\n",
        "\n",
        "This equation effectively least squares fits a point on the fringe pattern, and can perfectly recover the phase, given a perfect input pattern.\n",
        "This issue is, the pattern never perfect in real life. There's noise, gamma distortion, saturation, etc. In this project, I will only address gamma distortion. by adding the exponential gamma factor to Eq. 1:\n",
        "\n",
        "$$\n",
        "I_n(x)^\\gamma = (A+Bsin(\\omega_ox+n*2\\pi/N+\\phi(x)))^\\gamma \\tag{Eq. 3}\n",
        "$$\n",
        "\n",
        "Writing this as a fourier series in exponential form:\n",
        "\n",
        "$$\n",
        "I_n(x)^\\gamma = A+\\sum_{k=1}^{\\infty}B_ksin(k[\\omega_ox+n*2\\pi/N+\\phi(x))]) \\tag{Eq. 4}\n",
        "$$\n",
        "\n",
        "This produces the kth harmonic terms with ampltitude $B_k$. When $\\gamma \\neq 1$, and the phase shited series from Eq. 1 is used with the PSA LSQ in Eq. 2, the resulting phase will have unwanted ripples at the higher freqeuncy harmonics of the original pattern, which will then affect the final measurement.\n",
        "\n",
        "There are many methods that already exist to remove gamma distortion, but almost all of them involve designing a frequency filter to remove the higher order harmonics from the phase map, but this method doesn't always work perfectly, especially if the fringe frequency varies across the field of view, which is often the case for skewed camera/projector perspectives. My goal is that the gamma value can be estimated by training a CNN on just one image of the fringes at a time, and then the inverse can be applied to recover the fringe pattern $I_{actual} = I_{measured}^{1/\\gamma}$\n",
        "\n",
        "It's not likely this method will work (simply because it seems too obvious, someone would have done it already). I will also try to rectify the images based on what the correct image should look like."
      ]
    },
    {
      "cell_type": "markdown",
      "metadata": {
        "id": "yJU8W-_dU6W3"
      },
      "source": [
        "\n",
        "I will use fairly large images to make them more realistic to real camera images (1024x1024). Then I will generate training data with the following parameters randomized\n",
        "\n",
        "1. Fringe period, between some bounds of ~5 fringes to 20 fringes over the image\n",
        "2. Fringe orientation (clocking)\n",
        "3. A linear term in x and y added to the fringe period (within some bounds). This would nicely simulate a projector with the fringes at a non-normal incidence with a plane.\n",
        "\n",
        "The input data to the network will be the above randomized fringe pattern, with an added random gamma factor between 0.8 and 1.8.\n"
      ]
    },
    {
      "cell_type": "code",
      "metadata": {
        "id": "f-IeipqoYzLx"
      },
      "source": [
        "import numpy as np\n",
        "import matplotlib.pyplot as plt\n",
        "from scipy import ndimage\n",
        "import tensorflow as tf\n",
        "import tensorflow.keras as keras\n",
        "from tensorflow.keras import layers\n",
        "from tensorflow.keras.datasets import cifar10\n",
        "from tensorflow.keras.models import Model\n",
        "import cv2\n",
        "import math\n",
        "plt.rcParams['figure.figsize'] = [30, 10]\n",
        "plt.rcParams.update({'font.size': 22})"
      ],
      "execution_count": 2,
      "outputs": []
    },
    {
      "cell_type": "code",
      "metadata": {
        "id": "AP_jNRHh6woY"
      },
      "source": [
        "def sigmoid(x):\n",
        "    sig = 1 / (1 + math.exp(-x))\n",
        "    return sig\n",
        "def sigmoid_inv(sig):\n",
        "  x = math.log(sig/(1-sig))\n",
        "  return x"
      ],
      "execution_count": null,
      "outputs": []
    },
    {
      "cell_type": "code",
      "metadata": {
        "id": "_tTYObeXZnu6"
      },
      "source": [
        "def createFringePattern(X,Y,fringePeriod,clockingangle,slope):\n",
        "  \n",
        "  \n",
        "  fringePeriodwDistortion = fringePeriod*(1+slope*X)\n",
        "  Pattern = (0.5+0.5*np.cos(2*np.pi*X/(fringePeriodwDistortion)))\n",
        "  Pattern = ndimage.rotate(Pattern,clockingangle,reshape=True)\n",
        "  \n",
        "  return Pattern[1024:2048,1024:2048]"
      ],
      "execution_count": null,
      "outputs": []
    },
    {
      "cell_type": "code",
      "metadata": {
        "id": "Vbv4BUxWcQbr"
      },
      "source": [
        "X = np.linspace(0,3072,num=3072)\n",
        "Y = np.linspace(0,3072,num=3072)\n",
        "X,Y = np.meshgrid(X,Y)\n",
        "fringePeriodBounds = [5, 50]\n",
        "gammaBounds = [.8, 1.8]\n",
        "slopeBounds = [0,.002]\n",
        "N = 200\n",
        "\n",
        "PatternCorrect = np.zeros([N,1024,1024])\n",
        "PatternGamma = np.zeros([N,1024,1024])\n",
        "clockingangle = np.zeros(N)\n",
        "gamma = np.zeros(N)\n",
        "gamma_squished = np.zeros(N)\n",
        "period = np.zeros(N)\n",
        "slope = np.zeros(N)\n",
        "\n",
        "for i in range(N):\n",
        "  clockingangle[i] = np.random.random_sample()*360\n",
        "  gamma[i] = np.random.random_sample()*(gammaBounds[1]-gammaBounds[0])+gammaBounds[0]\n",
        "  period[i] = np.random.random_sample()*(fringePeriodBounds[1]-fringePeriodBounds[0])+fringePeriodBounds[0]\n",
        "  slope[i] = np.random.random_sample()*(slopeBounds[1]-slopeBounds[0])+slopeBounds[0]\n",
        "\n",
        "  PatternCorrect[i,:,:] = createFringePattern(X,Y,period[i],clockingangle[i],slope[i])\n",
        "  PatternGamma[i,:,:] = PatternCorrect[i,:,:]**gamma[i]\n",
        "  gamma_squished[i] = gamma[i]-.8"
      ],
      "execution_count": null,
      "outputs": []
    },
    {
      "cell_type": "code",
      "metadata": {
        "id": "guW34MqBAl7w",
        "colab": {
          "base_uri": "https://localhost:8080/"
        },
        "outputId": "99ebb097-ce8c-415c-d6d7-64ee83fb3248"
      },
      "source": [
        "print(gamma)\n",
        "with open('/content/drive/My Drive/FringePatterns.npy', 'wb') as f:\n",
        "    np.savez(f, PatternCorrect,PatternGamma,gamma)"
      ],
      "execution_count": null,
      "outputs": [
        {
          "output_type": "stream",
          "name": "stdout",
          "text": [
            "[0.9805292  1.57411659 0.98226519 0.92373769 1.77665287 1.07965104\n",
            " 1.45697679 1.30342486 1.33236989 0.81218459 1.07953647 1.64596405\n",
            " 1.09877611 1.20944801 1.05629006 1.14206874 1.1377318  1.65542875\n",
            " 1.37562683 1.33348504 1.1692412  1.19226338 1.47031149 0.87545968\n",
            " 1.09369002 1.77172559 0.96637952 1.54705935 1.50470468 1.34114061\n",
            " 1.56000237 0.99807135 1.69510785 1.03168617 1.61819606 1.31486188\n",
            " 0.88542877 0.92467062 1.56253563 0.98359697 1.2921834  1.50294257\n",
            " 1.65281297 1.50658527 0.94305977 1.12442128 0.95728903 1.21742296\n",
            " 1.26062869 1.78928078 1.76779561 1.04295929 1.14888791 1.49030712\n",
            " 1.2292043  1.6797642  1.36677668 1.2680587  0.85177991 0.97200066\n",
            " 1.39492544 1.3780741  1.58534589 1.30503085 1.67298378 1.02786204\n",
            " 1.4993456  1.60022213 0.95856223 1.21355167 1.21582682 0.90624841\n",
            " 1.24269185 1.52099331 0.88050985 0.93209763 1.02913773 1.41201083\n",
            " 1.3656508  1.68643542 0.99491136 1.02865555 1.20763013 1.2975415\n",
            " 1.77431165 1.06759498 1.55282168 1.35661105 0.97291545 0.82259637\n",
            " 1.55016647 1.5909002  1.31051923 1.05973854 1.3003804  1.75591859\n",
            " 1.73196766 1.57142503 1.36397511 0.84366192 1.17071618 0.92858597\n",
            " 1.71312547 1.14862296 1.50609253 1.24778303 0.88521896 1.54524875\n",
            " 1.42223017 1.71065718 1.68574315 1.38324375 0.82517295 0.817255\n",
            " 1.65353244 0.85412279 1.00144862 1.35396446 1.67029886 1.02661894\n",
            " 1.77381062 1.43962798 0.83979591 1.76237246 1.25063465 1.53280937\n",
            " 1.3183222  1.09759793 1.01997412 1.74108132 1.11447667 1.70006615\n",
            " 1.42049356 1.07049347 0.96697364 0.91166537 1.29310731 0.84472873\n",
            " 1.03768055 1.31144785 1.49058799 1.02775208 1.35802072 1.66962304\n",
            " 1.05904148 0.87365059 1.39632635 0.93592576 1.77041062 1.49365\n",
            " 1.21052894 1.40377783 1.15422968 1.02057484 0.88645556 1.73236939\n",
            " 1.02719237 0.94341148 1.58453666 1.49621729 1.04303946 1.19724263\n",
            " 1.16310988 1.59380113 1.4849463  0.84301623 1.6374125  1.52107468\n",
            " 1.68329242 1.16747251 1.63976152 1.59184988 1.63593112 1.29518907\n",
            " 1.31072649 1.40460447 1.41184434 1.10339334 1.30790944 1.35888795\n",
            " 1.63959712 0.89759793 0.80619124 0.84407359 1.03256166 1.44404156\n",
            " 0.97610339 1.1021939  1.37969316 1.43450326 0.88647738 1.56044829\n",
            " 1.28244774 1.10549437 1.7437977  1.54163687 1.14354704 1.31094034\n",
            " 1.68301862 0.82601088]\n"
          ]
        }
      ]
    },
    {
      "cell_type": "code",
      "source": [
        "with open('/content/drive/My Drive/FringePatterns.npy', 'rb') as f:\n",
        "    data = np.load(f)\n",
        "    PatternCorrect = data['arr_0']\n",
        "    PatternGamma = data['arr_1']\n",
        "    gamma = data['arr_2']\n",
        "    gamma_squished = gamma -.8"
      ],
      "metadata": {
        "id": "K7uIwPsbRIEK"
      },
      "execution_count": 3,
      "outputs": []
    },
    {
      "cell_type": "code",
      "metadata": {
        "id": "cwTdeiMRsQ09",
        "colab": {
          "base_uri": "https://localhost:8080/",
          "height": 612
        },
        "outputId": "53b271cc-f59f-4c91-ff3b-d4f4e9330c2b"
      },
      "source": [
        "n = 5\n",
        "plt.subplot(1,3,1)\n",
        "plt.imshow(PatternCorrect[n,:,:])\n",
        "plt.title('$\\gamma: 1.0$ ')\n",
        "plt.colorbar()\n",
        "plt.subplot(1,3,2)\n",
        "plt.imshow(PatternGamma[n,:,:])\n",
        "plt.title('$\\gamma:$ ' + str(round(gamma[n],ndigits=5)))\n",
        "plt.colorbar()\n",
        "plt.subplot(1,3,3)\n",
        "plt.imshow(PatternCorrect[n,:,:]-PatternGamma[n,:,:])\n",
        "plt.title('Subtracted')\n",
        "plt.colorbar()"
      ],
      "execution_count": 42,
      "outputs": [
        {
          "output_type": "execute_result",
          "data": {
            "text/plain": [
              "<matplotlib.colorbar.Colorbar at 0x7f81b8945690>"
            ]
          },
          "metadata": {},
          "execution_count": 42
        },
        {
          "output_type": "display_data",
          "data": {
            "image/png": "[encoded data removed]",
            "text/plain": [
              "<Figure size 2160x720 with 6 Axes>"
            ]
          },
          "metadata": {
            "needs_background": "light"
          }
        }
      ]
    },
    {
      "cell_type": "markdown",
      "source": [
        "First, I tried to set up a CNN to estimate gamma directly. I tried different combinations of convolutions and hidden layers, below is the best performing one. There may be better solutions, but I just didn't have enough computing power to try enough different models/use more training data. \n",
        "\n",
        "This network is very prone to overfitting. If i use the same validation data as training data, the model converges really well (mean squared error about .01, which is a good estimation of the gamma factor!). But when used on test data, it isn't even close, about 0.1 mean squared error. \n"
      ],
      "metadata": {
        "id": "FIjBQrJAdmOJ"
      }
    },
    {
      "cell_type": "code",
      "source": [
        "model = keras.Sequential()\n",
        "model.add(layers.Conv2D(64, (8, 8), strides=2, activation='relu', padding='same',input_shape=(1024,1024,1)))\n",
        "model.add(layers.Conv2D(32, (4, 4), strides=2, activation='relu', padding='same'))\n",
        "model.add(layers.Conv2D(16, (3, 3), strides=2, activation='relu', padding='same'))\n",
        "model.add(layers.Conv2D(4, (2, 2), strides=2, activation='relu', padding='same'))\n",
        "model.add(layers.Conv2D(1, (2, 2), strides=2, activation='relu', padding='same'))\n",
        "\n",
        "\n",
        "model.add(layers.Flatten())\n",
        "model.add(layers.Dense(16,activation='relu'))\n",
        "model.add(layers.Dense(8,activation='relu'))\n",
        "model.add(layers.Dense(1,activation='linear'))\n",
        "model.compile(optimizer='adam', loss='mean_squared_error')\n",
        "model.summary()"
      ],
      "metadata": {
        "id": "KNoIJZehWLJD",
        "outputId": "7b5a6e01-89ff-44c5-cc90-c35432f55015",
        "colab": {
          "base_uri": "https://localhost:8080/"
        }
      },
      "execution_count": 8,
      "outputs": [
        {
          "output_type": "stream",
          "name": "stdout",
          "text": [
            "Model: \"sequential_3\"\n",
            "_________________________________________________________________\n",
            " Layer (type)                Output Shape              Param #   \n",
            "=================================================================\n",
            " conv2d_10 (Conv2D)          (None, 512, 512, 64)      4160      \n",
            "                                                                 \n",
            " conv2d_11 (Conv2D)          (None, 256, 256, 32)      32800     \n",
            "                                                                 \n",
            " conv2d_12 (Conv2D)          (None, 128, 128, 16)      4624      \n",
            "                                                                 \n",
            " conv2d_13 (Conv2D)          (None, 64, 64, 4)         260       \n",
            "                                                                 \n",
            " conv2d_14 (Conv2D)          (None, 32, 32, 1)         17        \n",
            "                                                                 \n",
            " flatten_3 (Flatten)         (None, 1024)              0         \n",
            "                                                                 \n",
            " dense_9 (Dense)             (None, 16)                16400     \n",
            "                                                                 \n",
            " dense_10 (Dense)            (None, 8)                 136       \n",
            "                                                                 \n",
            " dense_11 (Dense)            (None, 1)                 9         \n",
            "                                                                 \n",
            "=================================================================\n",
            "Total params: 58,406\n",
            "Trainable params: 58,406\n",
            "Non-trainable params: 0\n",
            "_________________________________________________________________\n"
          ]
        }
      ]
    },
    {
      "cell_type": "code",
      "metadata": {
        "id": "B6xbzHr-3k1o",
        "colab": {
          "base_uri": "https://localhost:8080/"
        },
        "outputId": "0cb10be6-f548-455f-d322-26e1fd3a2f78"
      },
      "source": [
        "\n",
        "model.fit(\n",
        "    x=PatternGamma[0:125,:,:],\n",
        "    y=gamma_squished[0:125],\n",
        "    epochs=20,\n",
        "    batch_size=20,\n",
        "    shuffle=True,\n",
        "    validation_data=(PatternGamma[125:150,:,:], gamma_squished[125:150]),\n",
        ")"
      ],
      "execution_count": 9,
      "outputs": [
        {
          "output_type": "stream",
          "name": "stdout",
          "text": [
            "Epoch 1/20\n",
            "7/7 [==============================] - 109s 15s/step - loss: 0.2377 - val_loss: 0.1663\n",
            "Epoch 2/20\n",
            "7/7 [==============================] - 107s 15s/step - loss: 0.1204 - val_loss: 0.1117\n",
            "Epoch 3/20\n",
            "7/7 [==============================] - 107s 15s/step - loss: 0.1054 - val_loss: 0.1193\n",
            "Epoch 4/20\n",
            "7/7 [==============================] - 107s 15s/step - loss: 0.1158 - val_loss: 0.1120\n",
            "Epoch 5/20\n",
            "7/7 [==============================] - 112s 16s/step - loss: 0.1015 - val_loss: 0.0974\n",
            "Epoch 6/20\n",
            "7/7 [==============================] - 106s 15s/step - loss: 0.0887 - val_loss: 0.0987\n",
            "Epoch 7/20\n",
            "7/7 [==============================] - 110s 16s/step - loss: 0.0830 - val_loss: 0.1119\n",
            "Epoch 8/20\n",
            "7/7 [==============================] - 107s 15s/step - loss: 0.0788 - val_loss: 0.1023\n",
            "Epoch 9/20\n",
            "7/7 [==============================] - 107s 15s/step - loss: 0.0914 - val_loss: 0.1206\n",
            "Epoch 10/20\n",
            "7/7 [==============================] - 107s 15s/step - loss: 0.0881 - val_loss: 0.0995\n",
            "Epoch 11/20\n",
            "7/7 [==============================] - 114s 16s/step - loss: 0.0754 - val_loss: 0.0966\n",
            "Epoch 12/20\n",
            "7/7 [==============================] - 107s 15s/step - loss: 0.0686 - val_loss: 0.0969\n",
            "Epoch 13/20\n",
            "7/7 [==============================] - 107s 15s/step - loss: 0.0657 - val_loss: 0.1118\n",
            "Epoch 14/20\n",
            "7/7 [==============================] - 108s 15s/step - loss: 0.0610 - val_loss: 0.1060\n",
            "Epoch 15/20\n",
            "7/7 [==============================] - 107s 15s/step - loss: 0.0547 - val_loss: 0.1089\n",
            "Epoch 16/20\n",
            "7/7 [==============================] - 107s 15s/step - loss: 0.0459 - val_loss: 0.1135\n",
            "Epoch 17/20\n",
            "7/7 [==============================] - 108s 15s/step - loss: 0.0417 - val_loss: 0.1121\n",
            "Epoch 18/20\n",
            "7/7 [==============================] - 113s 15s/step - loss: 0.0373 - val_loss: 0.1282\n",
            "Epoch 19/20\n",
            "7/7 [==============================] - 108s 15s/step - loss: 0.0333 - val_loss: 0.1201\n",
            "Epoch 20/20\n",
            "7/7 [==============================] - 108s 15s/step - loss: 0.0353 - val_loss: 0.1153\n"
          ]
        },
        {
          "output_type": "execute_result",
          "data": {
            "text/plain": [
              "<keras.callbacks.History at 0x7f67b677d450>"
            ]
          },
          "metadata": {},
          "execution_count": 9
        }
      ]
    },
    {
      "cell_type": "code",
      "source": [
        "from google.colab import files\n",
        "model.save(\"model\")\n",
        "!tar -czvf model.tar.gz model/\n",
        "files.download('model.tar.gz')\n"
      ],
      "metadata": {
        "id": "eHjz4xNbgWR5",
        "outputId": "0d1a828e-2b23-4862-c2a9-bfd917da485c",
        "colab": {
          "base_uri": "https://localhost:8080/",
          "height": 156
        }
      },
      "execution_count": 11,
      "outputs": [
        {
          "output_type": "stream",
          "name": "stdout",
          "text": [
            "INFO:tensorflow:Assets written to: model/assets\n",
            "model/\n",
            "model/variables/\n",
            "model/variables/variables.data-00000-of-00001\n",
            "model/variables/variables.index\n",
            "model/saved_model.pb\n",
            "model/keras_metadata.pb\n",
            "model/assets/\n"
          ]
        },
        {
          "output_type": "display_data",
          "data": {
            "application/javascript": [
              "\n",
              "    async function download(id, filename, size) {\n",
              "      if (!google.colab.kernel.accessAllowed) {\n",
              "        return;\n",
              "      }\n",
              "      const div = document.createElement('div');\n",
              "      const label = document.createElement('label');\n",
              "      label.textContent = `Downloading \"${filename}\": `;\n",
              "      div.appendChild(label);\n",
              "      const progress = document.createElement('progress');\n",
              "      progress.max = size;\n",
              "      div.appendChild(progress);\n",
              "      document.body.appendChild(div);\n",
              "\n",
              "      const buffers = [];\n",
              "      let downloaded = 0;\n",
              "\n",
              "      const channel = await google.colab.kernel.comms.open(id);\n",
              "      // Send a message to notify the kernel that we're ready.\n",
              "      channel.send({})\n",
              "\n",
              "      for await (const message of channel.messages) {\n",
              "        // Send a message to notify the kernel that we're ready.\n",
              "        channel.send({})\n",
              "        if (message.buffers) {\n",
              "          for (const buffer of message.buffers) {\n",
              "            buffers.push(buffer);\n",
              "            downloaded += buffer.byteLength;\n",
              "            progress.value = downloaded;\n",
              "          }\n",
              "        }\n",
              "      }\n",
              "      const blob = new Blob(buffers, {type: 'application/binary'});\n",
              "      const a = document.createElement('a');\n",
              "      a.href = window.URL.createObjectURL(blob);\n",
              "      a.download = filename;\n",
              "      div.appendChild(a);\n",
              "      a.click();\n",
              "      div.remove();\n",
              "    }\n",
              "  "
            ],
            "text/plain": [
              "<IPython.core.display.Javascript object>"
            ]
          },
          "metadata": {}
        },
        {
          "output_type": "display_data",
          "data": {
            "application/javascript": [
              "download(\"download_aec19ba1-6b0c-4026-bac9-e14b3458824a\", \"model.tar.gz\", 688432)"
            ],
            "text/plain": [
              "<IPython.core.display.Javascript object>"
            ]
          },
          "metadata": {}
        }
      ]
    },
    {
      "cell_type": "code",
      "metadata": {
        "id": "hazqqaDW56xc",
        "colab": {
          "base_uri": "https://localhost:8080/"
        },
        "outputId": "dd11362e-eea4-4e81-d5b1-2f9566e867dc"
      },
      "source": [
        "for i in range(150,200):\n",
        "  a = model.predict(PatternGamma[i:i+1,:,:])\n",
        " \n",
        "  print((a)+.8)\n",
        "  print(gamma[i])"
      ],
      "execution_count": 12,
      "outputs": [
        {
          "output_type": "stream",
          "name": "stdout",
          "text": [
            "[[1.4753721]]\n",
            "1.2105289406328716\n",
            "[[1.3144286]]\n",
            "1.4037778319533563\n",
            "[[1.4858437]]\n",
            "1.1542296847637885\n",
            "[[1.2632916]]\n",
            "1.0205748397793792\n",
            "[[1.0713289]]\n",
            "0.886455556102374\n",
            "[[1.2102675]]\n",
            "1.7323693861710558\n",
            "[[1.8008533]]\n",
            "1.027192369158127\n",
            "[[1.1481411]]\n",
            "0.9434114756519149\n",
            "[[1.0094827]]\n",
            "1.5845366621213963\n",
            "[[1.2054256]]\n",
            "1.4962172857720546\n",
            "[[1.0899965]]\n",
            "1.043039457922391\n",
            "[[1.4018608]]\n",
            "1.1972426286477624\n",
            "[[1.162052]]\n",
            "1.163109878418529\n",
            "[[1.0811098]]\n",
            "1.5938011335894173\n",
            "[[1.280582]]\n",
            "1.4849462986421897\n",
            "[[1.1443775]]\n",
            "0.8430162320472451\n",
            "[[0.912039]]\n",
            "1.6374124988649918\n",
            "[[1.2481264]]\n",
            "1.5210746813556983\n",
            "[[1.4029741]]\n",
            "1.6832924160987288\n",
            "[[1.5901297]]\n",
            "1.1674725091959794\n",
            "[[1.4325714]]\n",
            "1.6397615223200468\n",
            "[[1.3908303]]\n",
            "1.5918498773014091\n",
            "[[1.1378839]]\n",
            "1.6359311169647506\n",
            "[[1.1910303]]\n",
            "1.295189068742435\n",
            "[[0.9913925]]\n",
            "1.3107264940572496\n",
            "[[1.0656374]]\n",
            "1.404604474112263\n",
            "[[1.0442082]]\n",
            "1.411844337430391\n",
            "[[1.3984777]]\n",
            "1.103393341536663\n",
            "[[1.1885815]]\n",
            "1.3079094400312479\n",
            "[[1.3798494]]\n",
            "1.358887954384976\n",
            "[[1.4429353]]\n",
            "1.6395971204627573\n",
            "[[1.2033634]]\n",
            "0.8975979257609954\n",
            "[[1.2476873]]\n",
            "0.8061912371188223\n",
            "[[1.5721788]]\n",
            "0.8440735885903619\n",
            "[[1.1644993]]\n",
            "1.0325616581629529\n",
            "[[1.2306592]]\n",
            "1.4440415606601886\n",
            "[[1.3774631]]\n",
            "0.9761033939374716\n",
            "[[1.107723]]\n",
            "1.1021939014729396\n",
            "[[1.3012094]]\n",
            "1.379693162451598\n",
            "[[1.0554483]]\n",
            "1.4345032555820079\n",
            "[[1.24412]]\n",
            "0.886477375669822\n",
            "[[1.1549664]]\n",
            "1.5604482931584283\n",
            "[[1.2279282]]\n",
            "1.2824477389124254\n",
            "[[1.4542569]]\n",
            "1.1054943748880695\n",
            "[[1.1312695]]\n",
            "1.7437976955325554\n",
            "[[1.4125352]]\n",
            "1.5416368731175445\n",
            "[[1.2854576]]\n",
            "1.1435470392650555\n",
            "[[1.4948788]]\n",
            "1.310940343005744\n",
            "[[1.2567772]]\n",
            "1.6830186193684242\n",
            "[[0.88340855]]\n",
            "0.8260108842265756\n"
          ]
        }
      ]
    },
    {
      "cell_type": "markdown",
      "source": [
        "The next strategy to try is simply training to input the fringe pattern, and correct it. Here I tried simply using a combination of convolutions and some pooling layers to collect information about the image. I figured that this method might involve the convolution layers looking at different slopes of the pattern, then correcting the slopes to "
      ],
      "metadata": {
        "id": "oxfmFEowmjY1"
      }
    },
    {
      "cell_type": "code",
      "source": [
        "inputs=keras.Input(shape=(1024, 1024, 1))\n",
        "\n",
        "# Encoder\n",
        "x = layers.Conv2D(2, (5, 5), strides=1, activation=\"relu\", padding=\"same\")(inputs)\n",
        "x = layers.MaxPooling2D((2, 2), padding='same')(x)\n",
        "x = layers.Conv2D(4, (4, 4), strides=2, activation=\"relu\", padding=\"same\")(x)\n",
        "x = layers.MaxPooling2D((2, 2), padding='same')(x)\n",
        "x = layers.Conv2D(8, (3, 3), strides=2, activation=\"relu\", padding=\"same\")(x)\n",
        "x = layers.MaxPooling2D((2, 2), padding='same')(x)\n",
        "\n",
        "# Decoder\n",
        "x = layers.Conv2DTranspose(8, (3, 3), strides=2, activation=\"relu\", padding=\"same\")(x)\n",
        "x = layers.Conv2DTranspose(4, (4, 4), strides=2, activation=\"relu\", padding=\"same\")(x)\n",
        "x = layers.Conv2DTranspose(2, (5, 5), strides=2, activation=\"relu\", padding=\"same\")(x)\n",
        "x = layers.Conv2DTranspose(2, (6, 6), strides = 2,activation=\"relu\", padding=\"same\")(x)\n",
        "x = layers.Conv2DTranspose(1, (8, 8), strides = 2,activation=\"relu\", padding=\"same\")(x)\n",
        "\n",
        "model2 = keras.Model(inputs, x)\n",
        "model2.compile(optimizer='adam', loss='mean_squared_error')\n",
        "model2.summary()"
      ],
      "metadata": {
        "id": "u7Vadqm2jj81",
        "outputId": "8419916f-85ca-4c47-be0d-9725b5408bb8",
        "colab": {
          "base_uri": "https://localhost:8080/"
        }
      },
      "execution_count": 11,
      "outputs": [
        {
          "output_type": "stream",
          "name": "stdout",
          "text": [
            "Model: \"model_6\"\n",
            "_________________________________________________________________\n",
            " Layer (type)                Output Shape              Param #   \n",
            "=================================================================\n",
            " input_7 (InputLayer)        [(None, 1024, 1024, 1)]   0         \n",
            "                                                                 \n",
            " conv2d_18 (Conv2D)          (None, 1024, 1024, 2)     52        \n",
            "                                                                 \n",
            " max_pooling2d_13 (MaxPoolin  (None, 512, 512, 2)      0         \n",
            " g2D)                                                            \n",
            "                                                                 \n",
            " conv2d_19 (Conv2D)          (None, 256, 256, 4)       132       \n",
            "                                                                 \n",
            " max_pooling2d_14 (MaxPoolin  (None, 128, 128, 4)      0         \n",
            " g2D)                                                            \n",
            "                                                                 \n",
            " conv2d_20 (Conv2D)          (None, 64, 64, 8)         296       \n",
            "                                                                 \n",
            " max_pooling2d_15 (MaxPoolin  (None, 32, 32, 8)        0         \n",
            " g2D)                                                            \n",
            "                                                                 \n",
            " conv2d_transpose_30 (Conv2D  (None, 64, 64, 8)        584       \n",
            " Transpose)                                                      \n",
            "                                                                 \n",
            " conv2d_transpose_31 (Conv2D  (None, 128, 128, 4)      516       \n",
            " Transpose)                                                      \n",
            "                                                                 \n",
            " conv2d_transpose_32 (Conv2D  (None, 256, 256, 2)      202       \n",
            " Transpose)                                                      \n",
            "                                                                 \n",
            " conv2d_transpose_33 (Conv2D  (None, 512, 512, 2)      146       \n",
            " Transpose)                                                      \n",
            "                                                                 \n",
            " conv2d_transpose_34 (Conv2D  (None, 1024, 1024, 1)    129       \n",
            " Transpose)                                                      \n",
            "                                                                 \n",
            "=================================================================\n",
            "Total params: 2,057\n",
            "Trainable params: 2,057\n",
            "Non-trainable params: 0\n",
            "_________________________________________________________________\n"
          ]
        }
      ]
    },
    {
      "cell_type": "code",
      "source": [
        "model2.fit(\n",
        "    x=PatternGamma[0:125,:,:],\n",
        "    y=PatternCorrect[0:125,:,:],\n",
        "    epochs=20,\n",
        "    batch_size=20,\n",
        "    shuffle=True,\n",
        "    validation_data=(PatternGamma[125:150,:,:], PatternCorrect[125:150,:,:]),\n",
        ")"
      ],
      "metadata": {
        "id": "qWK_6byPnEmY",
        "outputId": "dba90a13-8f7a-4805-c960-2fb37838d94f",
        "colab": {
          "base_uri": "https://localhost:8080/"
        }
      },
      "execution_count": 12,
      "outputs": [
        {
          "output_type": "stream",
          "name": "stdout",
          "text": [
            "Epoch 1/20\n",
            "7/7 [==============================] - 85s 12s/step - loss: 0.3706 - val_loss: 0.3637\n",
            "Epoch 2/20\n",
            "7/7 [==============================] - 83s 12s/step - loss: 0.3637 - val_loss: 0.3569\n",
            "Epoch 3/20\n",
            "7/7 [==============================] - 83s 12s/step - loss: 0.3569 - val_loss: 0.3501\n",
            "Epoch 4/20\n",
            "7/7 [==============================] - 83s 12s/step - loss: 0.3501 - val_loss: 0.3435\n",
            "Epoch 5/20\n",
            "7/7 [==============================] - 83s 12s/step - loss: 0.3435 - val_loss: 0.3370\n",
            "Epoch 6/20\n",
            "7/7 [==============================] - 83s 12s/step - loss: 0.3370 - val_loss: 0.3306\n",
            "Epoch 7/20\n",
            "7/7 [==============================] - 85s 12s/step - loss: 0.3307 - val_loss: 0.3244\n",
            "Epoch 8/20\n",
            "7/7 [==============================] - 82s 12s/step - loss: 0.3245 - val_loss: 0.3183\n",
            "Epoch 9/20\n",
            "7/7 [==============================] - 82s 12s/step - loss: 0.3184 - val_loss: 0.3124\n",
            "Epoch 10/20\n",
            "7/7 [==============================] - 82s 12s/step - loss: 0.3125 - val_loss: 0.3066\n",
            "Epoch 11/20\n",
            "7/7 [==============================] - 82s 12s/step - loss: 0.3067 - val_loss: 0.3009\n",
            "Epoch 12/20\n",
            "7/7 [==============================] - 83s 12s/step - loss: 0.3011 - val_loss: 0.2954\n",
            "Epoch 13/20\n",
            "7/7 [==============================] - 82s 12s/step - loss: 0.2956 - val_loss: 0.2900\n",
            "Epoch 14/20\n",
            "7/7 [==============================] - 86s 12s/step - loss: 0.2902 - val_loss: 0.2847\n",
            "Epoch 15/20\n",
            "7/7 [==============================] - 86s 12s/step - loss: 0.2849 - val_loss: 0.2796\n",
            "Epoch 16/20\n",
            "7/7 [==============================] - 83s 12s/step - loss: 0.2798 - val_loss: 0.2746\n",
            "Epoch 17/20\n",
            "7/7 [==============================] - 83s 12s/step - loss: 0.2748 - val_loss: 0.2697\n",
            "Epoch 18/20\n",
            "7/7 [==============================] - 82s 12s/step - loss: 0.2700 - val_loss: 0.2649\n",
            "Epoch 19/20\n",
            "7/7 [==============================] - 83s 12s/step - loss: 0.2653 - val_loss: 0.2603\n",
            "Epoch 20/20\n",
            "7/7 [==============================] - 82s 12s/step - loss: 0.2607 - val_loss: 0.2558\n"
          ]
        },
        {
          "output_type": "execute_result",
          "data": {
            "text/plain": [
              "<keras.callbacks.History at 0x7fbeb113ea90>"
            ]
          },
          "metadata": {},
          "execution_count": 12
        }
      ]
    },
    {
      "cell_type": "code",
      "source": [
        "plt.imshow(model2.predict(PatternGamma[5:6,:,:])[0,:,:,0])\n",
        "plt.colorbar()"
      ],
      "metadata": {
        "id": "0iDCY2ppwCWw",
        "outputId": "e8e935b0-40a7-4c9f-e114-55e107d46bf8",
        "colab": {
          "base_uri": "https://localhost:8080/",
          "height": 626
        }
      },
      "execution_count": 20,
      "outputs": [
        {
          "output_type": "execute_result",
          "data": {
            "text/plain": [
              "<matplotlib.colorbar.Colorbar at 0x7fbeb2e95f90>"
            ]
          },
          "metadata": {},
          "execution_count": 20
        },
        {
          "output_type": "display_data",
          "data": {
            "image/png": "[encoded data removed]",
            "text/plain": [
              "<Figure size 2160x720 with 2 Axes>"
            ]
          },
          "metadata": {
            "needs_background": "light"
          }
        }
      ]
    },
    {
      "cell_type": "markdown",
      "source": [
        "After going through this process of using a neural network, I realized I think this problem may make more sense to solve practically using a different method, like gradient descent. I found a paper that simply does a least squares optimization: Muñoz, A., Flores, J. L., Parra-Escamilla, G., Morales, L. A., Ordones, S., & Servin, M. (2021). Least-squares gamma estimation in fringe projection profilometry. Applied Optics, 60(5), 1137-1142. In practice, if you wanted to calibrate for gamma distortion, you could do something like this\n",
        "\n",
        "1. Project phase shifted fringe patterns onto a flat surface. Apply initial gamma value.\n",
        "3. Calculate phase and unwrap phase\n",
        "4. Calculate RMS phase error from a plane (cost function). \n",
        "5. Iterate gamma a small step up or down depending on if the last loop got better or worse\n",
        "6. Repeat 1-5 until convergence\n",
        "\n",
        "This should eventually converge on the gamma value, since the closer you get to the correct value, the better the RMS phase error. "
      ],
      "metadata": {
        "id": "IkgtWi-qtuyc"
      }
    }
  ]
}
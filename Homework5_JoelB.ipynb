{
  "nbformat": 4,
  "nbformat_minor": 0,
  "metadata": {
    "colab": {
      "name": "Homework5_JoelB",
      "provenance": [],
      "authorship_tag": "ABX9TyNbuyCHMpkTdBGvOJ89Dpuu",
      "include_colab_link": true
    },
    "kernelspec": {
      "name": "python3",
      "display_name": "Python 3"
    },
    "language_info": {
      "name": "python"
    }
  },
  "cells": [
    {
      "cell_type": "markdown",
      "metadata": {
        "id": "view-in-github",
        "colab_type": "text"
      },
      "source": [
        "<a href=\"https://colab.research.google.com/github/jdberkson/OPTI-556-Computational-Imaging/blob/main/Homework5_JoelB.ipynb\" target=\"_parent\"><img src=\"https://colab.research.google.com/assets/colab-badge.svg\" alt=\"Open In Colab\"/></a>"
      ]
    },
    {
      "cell_type": "code",
      "metadata": {
        "id": "MnSFvpqbkkGH"
      },
      "source": [
        ""
      ],
      "execution_count": null,
      "outputs": []
    },
    {
      "cell_type": "markdown",
      "metadata": {
        "id": "UYeZYIXjkkxx"
      },
      "source": [
        "# Homework 5 OPTI 556"
      ]
    },
    {
      "cell_type": "markdown",
      "metadata": {
        "id": "BKT4CavSklCx"
      },
      "source": [
        "## Joel Berkson 11/14/2021"
      ]
    },
    {
      "cell_type": "code",
      "metadata": {
        "id": "TKhZVTFdFPLj"
      },
      "source": [
        ""
      ],
      "execution_count": null,
      "outputs": []
    },
    {
      "cell_type": "markdown",
      "metadata": {
        "id": "vXNUdMktFPgW"
      },
      "source": [
        "So we are given the following *coherent* impulse response of some system. We know that the incoherent response is the magnitude squared of this function:\n",
        "\n",
        "$$\n",
        "h_{incoherent}(x,y,z) = |h(x,y,z)|^2=|\\frac{1}{w_o^2+i\\lambda z}e^{2\\phi i\\frac{z}{\\lambda}}e^{-\\pi\\frac{x^2+y^2}{w_o^2+i\\lambda z}}|^2\n",
        "$$"
      ]
    },
    {
      "cell_type": "markdown",
      "metadata": {
        "id": "33jUBhoEF-_Q"
      },
      "source": [
        "When I think of the resolution of an optical system, I always think of MTF. When I think of ways to test MTF, I always think of the knife edge test. This is done by creating a step function edge image. The derivative of a step function is a delta function, so propagating a knife edge through the system produces an edge spread function (ESF) and the derivative creates a line spread function (LSF). Doing this in X and Y and multiplexing gives a measured PSF. \n",
        "\n",
        "$$\n",
        "LSF = \\frac{\\delta}{\\delta x} (ESF(x))\n",
        "$$"
      ]
    },
    {
      "cell_type": "code",
      "metadata": {
        "id": "h5NpMUKxk6AB"
      },
      "source": [
        "%matplotlib inline\n",
        "import numpy as np\n",
        "import matplotlib.pyplot as plt\n",
        "from scipy.signal import convolve2d, convolve\n",
        "from skimage import color, data, restoration, exposure\n",
        "from skimage import io"
      ],
      "execution_count": 2,
      "outputs": []
    },
    {
      "cell_type": "markdown",
      "metadata": {
        "id": "89hjM-E8JG3g"
      },
      "source": [
        "Incoherent transfer function"
      ]
    },
    {
      "cell_type": "code",
      "metadata": {
        "id": "34GR8xkXk5Yt"
      },
      "source": [
        "def g(rho,z, wo):\n",
        "  # all spatial terms are in units of wavelengths\n",
        "  g=(1/(wo**2+1j*z))*np.exp(2*np.pi*1j*z)*np.exp(-np.pi*rho**2/(wo**2+1j*z))\n",
        "  return np.abs(g)**2"
      ],
      "execution_count": 3,
      "outputs": []
    },
    {
      "cell_type": "code",
      "metadata": {
        "colab": {
          "base_uri": "https://localhost:8080/",
          "height": 583
        },
        "id": "lvgzYnmakuVO",
        "outputId": "2fc2a40f-c798-4456-e404-e53cffd255d3"
      },
      "source": [
        "photons = 10000\n",
        "x=np.linspace(-100,100,1024)\n",
        "xx,yy= np.meshgrid(x,x)\n",
        "X = np.abs(g(np.sqrt(xx**2+yy**2), 100, 5))**2\n",
        "Xnorm = X/np.max(X)\n",
        "print(np.max(X))\n",
        "Xphotnoise = np.sqrt(np.random.poisson(np.power(Xnorm*np.sqrt(photons),2)))/np.sqrt(photons)\n",
        "Xphotnoise[Xphotnoise>1] = 1\n",
        "Xphotnoise[Xphotnoise<0] *= 0\n",
        "plt.figure(figsize=[20,20])\n",
        "plt.subplot(2,2,1)\n",
        "plt.imshow(Xphotnoise,extent=[-100,100,-100,100])\n",
        "plt.colorbar()\n",
        "plt.subplot(2,2,2)\n"
      ],
      "execution_count": 4,
      "outputs": [
        {
          "output_type": "stream",
          "name": "stdout",
          "text": [
            "8.853127467300747e-09\n"
          ]
        },
        {
          "output_type": "execute_result",
          "data": {
            "text/plain": [
              "<matplotlib.axes._subplots.AxesSubplot at 0x7f76016a0c90>"
            ]
          },
          "metadata": {},
          "execution_count": 4
        },
        {
          "output_type": "display_data",
          "data": {
            "image/png": "[encoded data removed]",
            "text/plain": [
              "<Figure size 1440x1440 with 3 Axes>"
            ]
          },
          "metadata": {
            "needs_background": "light"
          }
        }
      ]
    },
    {
      "cell_type": "code",
      "metadata": {
        "id": "qc1DxBdQDnO0"
      },
      "source": [
        "def edge(X):\n",
        "  if X > 0:\n",
        "      f = 1\n",
        "  else:\n",
        "      f = -1\n",
        "  return f"
      ],
      "execution_count": 5,
      "outputs": []
    },
    {
      "cell_type": "code",
      "metadata": {
        "colab": {
          "base_uri": "https://localhost:8080/",
          "height": 287
        },
        "id": "HPRUbgDKDVr5",
        "outputId": "0e981ece-fe43-4c1e-b4e9-28845eb8984b"
      },
      "source": [
        "X = np.linspace(-100,100,1024)\n",
        "X,Y= np.meshgrid(X,X)\n",
        "rho = np.sqrt(X**2+Y**2)\n",
        "\n",
        "edgefun = np.vectorize(edge)\n",
        "KnifeEdge = edgefun(X)\n",
        "plt.imshow(KnifeEdge)"
      ],
      "execution_count": 104,
      "outputs": [
        {
          "output_type": "execute_result",
          "data": {
            "text/plain": [
              "<matplotlib.image.AxesImage at 0x7f75f9ddbd10>"
            ]
          },
          "metadata": {},
          "execution_count": 104
        },
        {
          "output_type": "display_data",
          "data": {
            "image/png": "[encoded data removed]",
            "text/plain": [
              "<Figure size 432x288 with 1 Axes>"
            ]
          },
          "metadata": {
            "needs_background": "light"
          }
        }
      ]
    },
    {
      "cell_type": "code",
      "metadata": {
        "colab": {
          "base_uri": "https://localhost:8080/",
          "height": 283
        },
        "id": "buYPXisvLSHg",
        "outputId": "18590965-e610-480b-f93f-819178c63854"
      },
      "source": [
        "xx = np.linspace(-100,100,1024)\n",
        "xx,yy= np.meshgrid(xx,xx)\n",
        "rho_trans = np.sqrt(xx**2+yy**2)\n",
        "h_incoh = g(rho_trans,1,10)\n",
        "h_incoh = h_incoh\n",
        "\n",
        "\n",
        "H_incoh = np.fft.fftshift(np.fft.fft2((h_incoh)))\n",
        "dx = xx[1,2]-xx[1,1]\n",
        "\n",
        "plt.subplot(1,3,1)\n",
        "KnifeEdge_fft = (np.fft.fft2((KnifeEdge)))*dx\n",
        "plt.plot(np.abs(np.fft.fftshift(KnifeEdge_fft)[512,:]))\n",
        "plt.subplot(1,3,2)\n",
        "plt.plot(np.abs(h_incoh[512,:]))\n",
        "plt.subplot(1,3,3)\n",
        "Multiplied = np.abs(h_incoh)*np.abs((np.fft.fftshift(KnifeEdge_fft)))\n",
        "plt.plot(np.abs(Multiplied[512,:]))"
      ],
      "execution_count": 177,
      "outputs": [
        {
          "output_type": "execute_result",
          "data": {
            "text/plain": [
              "[<matplotlib.lines.Line2D at 0x7f75f2716a50>]"
            ]
          },
          "metadata": {},
          "execution_count": 177
        },
        {
          "output_type": "display_data",
          "data": {
            "image/png": "[encoded data removed]",
            "text/plain": [
              "<Figure size 432x288 with 3 Axes>"
            ]
          },
          "metadata": {
            "needs_background": "light"
          }
        }
      ]
    },
    {
      "cell_type": "code",
      "metadata": {
        "colab": {
          "base_uri": "https://localhost:8080/",
          "height": 287
        },
        "id": "6Q7-PgAdPbxb",
        "outputId": "18d53e96-d20e-4df3-fea6-787735ce6bee"
      },
      "source": [
        "Image = np.fft.ifft2(np.fft.fftshift(Multiplied))/dx**2\n",
        "plt.imshow(np.real(Image))\n"
      ],
      "execution_count": 172,
      "outputs": [
        {
          "output_type": "execute_result",
          "data": {
            "text/plain": [
              "<matplotlib.image.AxesImage at 0x7f75f7dc3250>"
            ]
          },
          "metadata": {},
          "execution_count": 172
        },
        {
          "output_type": "display_data",
          "data": {
            "image/png": "[encoded data removed]",
            "text/plain": [
              "<Figure size 432x288 with 1 Axes>"
            ]
          },
          "metadata": {
            "needs_background": "light"
          }
        }
      ]
    },
    {
      "cell_type": "code",
      "metadata": {
        "colab": {
          "base_uri": "https://localhost:8080/",
          "height": 283
        },
        "id": "wVNuvUAmWL6B",
        "outputId": "91d4b631-53d1-46ca-ea58-70e1811e3ec8"
      },
      "source": [
        "mult = np.fft.fftshift(np.real(H_incoh)*KnifeEdge_fft)\n",
        "plt.plot(np.real(mult[512,:]))"
      ],
      "execution_count": 84,
      "outputs": [
        {
          "output_type": "execute_result",
          "data": {
            "text/plain": [
              "[<matplotlib.lines.Line2D at 0x7f75f97ef850>]"
            ]
          },
          "metadata": {},
          "execution_count": 84
        },
        {
          "output_type": "display_data",
          "data": {
            "image/png": "[encoded data removed]",
            "text/plain": [
              "<Figure size 432x288 with 1 Axes>"
            ]
          },
          "metadata": {
            "needs_background": "light"
          }
        }
      ]
    },
    {
      "cell_type": "code",
      "metadata": {
        "colab": {
          "base_uri": "https://localhost:8080/",
          "height": 287
        },
        "id": "XJivEb0USDOd",
        "outputId": "1b2004ec-c412-40a1-ed4e-0e530350ec0d"
      },
      "source": [
        "Image = (np.fft.ifft2(np.fft.fftshift(np.real(H_incoh)*(KnifeEdge_fft))))\n",
        "plt.imshow(np.abs(Image))"
      ],
      "execution_count": 86,
      "outputs": [
        {
          "output_type": "execute_result",
          "data": {
            "text/plain": [
              "<matplotlib.image.AxesImage at 0x7f75f9715d50>"
            ]
          },
          "metadata": {},
          "execution_count": 86
        },
        {
          "output_type": "display_data",
          "data": {
            "image/png": "[encoded data removed]",
            "text/plain": [
              "<Figure size 432x288 with 1 Axes>"
            ]
          },
          "metadata": {
            "needs_background": "light"
          }
        }
      ]
    }
  ]
}